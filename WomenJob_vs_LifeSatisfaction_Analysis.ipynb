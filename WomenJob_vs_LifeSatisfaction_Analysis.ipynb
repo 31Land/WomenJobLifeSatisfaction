{
 "cells": [
  {
   "cell_type": "markdown",
   "metadata": {},
   "source": [
    "### <span style=\"color:darkred\"> $T$ Distribution Women Job and Life Satisfaction Comparison</span>"
   ]
  },
  {
   "cell_type": "code",
   "execution_count": 1,
   "metadata": {},
   "outputs": [],
   "source": [
    "import numpy as np\n",
    "import scipy.stats as stats\n",
    "import seaborn as sns\n",
    "import matplotlib.pyplot as plt\n",
    "import pandas as pd\n",
    "import imp\n",
    "\n",
    "sns.set_style('whitegrid')\n",
    "\n",
    "%config InlineBackend.figure_format = 'retina'\n",
    "%matplotlib inline"
   ]
  },
  {
   "cell_type": "code",
   "execution_count": 5,
   "metadata": {},
   "outputs": [
    {
     "data": {
      "text/html": [
       "<div>\n",
       "<style scoped>\n",
       "    .dataframe tbody tr th:only-of-type {\n",
       "        vertical-align: middle;\n",
       "    }\n",
       "\n",
       "    .dataframe tbody tr th {\n",
       "        vertical-align: top;\n",
       "    }\n",
       "\n",
       "    .dataframe thead th {\n",
       "        text-align: right;\n",
       "    }\n",
       "</style>\n",
       "<table border=\"1\" class=\"dataframe\">\n",
       "  <thead>\n",
       "    <tr style=\"text-align: right;\">\n",
       "      <th></th>\n",
       "      <th>Province</th>\n",
       "      <th>Women Life Satisfaction Rate (Age 15-24)</th>\n",
       "      <th>Women Job Satisfaction Rate (Age 15-24)</th>\n",
       "    </tr>\n",
       "  </thead>\n",
       "  <tbody>\n",
       "    <tr>\n",
       "      <td>0</td>\n",
       "      <td>Azarbaijan_East</td>\n",
       "      <td>70.27</td>\n",
       "      <td>68.68</td>\n",
       "    </tr>\n",
       "    <tr>\n",
       "      <td>1</td>\n",
       "      <td>Azarbaijan_West</td>\n",
       "      <td>78.01</td>\n",
       "      <td>70.86</td>\n",
       "    </tr>\n",
       "    <tr>\n",
       "      <td>2</td>\n",
       "      <td>Ardabil</td>\n",
       "      <td>70.63</td>\n",
       "      <td>67.87</td>\n",
       "    </tr>\n",
       "    <tr>\n",
       "      <td>3</td>\n",
       "      <td>Isfahan</td>\n",
       "      <td>66.68</td>\n",
       "      <td>77.23</td>\n",
       "    </tr>\n",
       "    <tr>\n",
       "      <td>4</td>\n",
       "      <td>Alborz</td>\n",
       "      <td>67.15</td>\n",
       "      <td>72.72</td>\n",
       "    </tr>\n",
       "    <tr>\n",
       "      <td>5</td>\n",
       "      <td>Ilam</td>\n",
       "      <td>75.58</td>\n",
       "      <td>68.49</td>\n",
       "    </tr>\n",
       "    <tr>\n",
       "      <td>6</td>\n",
       "      <td>Bushehr</td>\n",
       "      <td>69.70</td>\n",
       "      <td>80.43</td>\n",
       "    </tr>\n",
       "    <tr>\n",
       "      <td>7</td>\n",
       "      <td>Tehran</td>\n",
       "      <td>65.86</td>\n",
       "      <td>87.67</td>\n",
       "    </tr>\n",
       "    <tr>\n",
       "      <td>8</td>\n",
       "      <td>Chaharmahal_and_Bakhtiari</td>\n",
       "      <td>73.12</td>\n",
       "      <td>83.23</td>\n",
       "    </tr>\n",
       "    <tr>\n",
       "      <td>9</td>\n",
       "      <td>Khorasan_South</td>\n",
       "      <td>77.89</td>\n",
       "      <td>65.04</td>\n",
       "    </tr>\n",
       "    <tr>\n",
       "      <td>10</td>\n",
       "      <td>Khorasan_Razavi</td>\n",
       "      <td>75.55</td>\n",
       "      <td>85.78</td>\n",
       "    </tr>\n",
       "    <tr>\n",
       "      <td>11</td>\n",
       "      <td>Khorasan_North</td>\n",
       "      <td>65.58</td>\n",
       "      <td>82.32</td>\n",
       "    </tr>\n",
       "    <tr>\n",
       "      <td>12</td>\n",
       "      <td>Khuzestan</td>\n",
       "      <td>68.76</td>\n",
       "      <td>82.25</td>\n",
       "    </tr>\n",
       "    <tr>\n",
       "      <td>13</td>\n",
       "      <td>Zanjan</td>\n",
       "      <td>72.99</td>\n",
       "      <td>75.19</td>\n",
       "    </tr>\n",
       "    <tr>\n",
       "      <td>14</td>\n",
       "      <td>Semnan</td>\n",
       "      <td>76.12</td>\n",
       "      <td>84.34</td>\n",
       "    </tr>\n",
       "    <tr>\n",
       "      <td>15</td>\n",
       "      <td>Sistan_and_Baluchestan</td>\n",
       "      <td>77.80</td>\n",
       "      <td>83.06</td>\n",
       "    </tr>\n",
       "    <tr>\n",
       "      <td>16</td>\n",
       "      <td>Fars</td>\n",
       "      <td>71.93</td>\n",
       "      <td>88.37</td>\n",
       "    </tr>\n",
       "    <tr>\n",
       "      <td>17</td>\n",
       "      <td>Qazvin</td>\n",
       "      <td>79.36</td>\n",
       "      <td>70.67</td>\n",
       "    </tr>\n",
       "    <tr>\n",
       "      <td>18</td>\n",
       "      <td>Qom</td>\n",
       "      <td>73.75</td>\n",
       "      <td>100.00</td>\n",
       "    </tr>\n",
       "    <tr>\n",
       "      <td>19</td>\n",
       "      <td>Kurdistan</td>\n",
       "      <td>67.27</td>\n",
       "      <td>87.55</td>\n",
       "    </tr>\n",
       "    <tr>\n",
       "      <td>20</td>\n",
       "      <td>Kerman</td>\n",
       "      <td>73.68</td>\n",
       "      <td>71.79</td>\n",
       "    </tr>\n",
       "    <tr>\n",
       "      <td>21</td>\n",
       "      <td>Kohgiluye_and_Boyer-Ahmad</td>\n",
       "      <td>68.28</td>\n",
       "      <td>90.82</td>\n",
       "    </tr>\n",
       "    <tr>\n",
       "      <td>22</td>\n",
       "      <td>Golestan</td>\n",
       "      <td>73.44</td>\n",
       "      <td>88.07</td>\n",
       "    </tr>\n",
       "    <tr>\n",
       "      <td>23</td>\n",
       "      <td>Gilan</td>\n",
       "      <td>70.28</td>\n",
       "      <td>92.40</td>\n",
       "    </tr>\n",
       "    <tr>\n",
       "      <td>24</td>\n",
       "      <td>Lorestan</td>\n",
       "      <td>79.30</td>\n",
       "      <td>73.06</td>\n",
       "    </tr>\n",
       "    <tr>\n",
       "      <td>25</td>\n",
       "      <td>Mazandaran</td>\n",
       "      <td>74.29</td>\n",
       "      <td>84.24</td>\n",
       "    </tr>\n",
       "    <tr>\n",
       "      <td>26</td>\n",
       "      <td>Markazi</td>\n",
       "      <td>74.29</td>\n",
       "      <td>84.24</td>\n",
       "    </tr>\n",
       "    <tr>\n",
       "      <td>27</td>\n",
       "      <td>Hormozgan</td>\n",
       "      <td>73.09</td>\n",
       "      <td>73.72</td>\n",
       "    </tr>\n",
       "    <tr>\n",
       "      <td>28</td>\n",
       "      <td>Hamedan</td>\n",
       "      <td>68.21</td>\n",
       "      <td>83.55</td>\n",
       "    </tr>\n",
       "    <tr>\n",
       "      <td>29</td>\n",
       "      <td>Yazd</td>\n",
       "      <td>73.23</td>\n",
       "      <td>100.00</td>\n",
       "    </tr>\n",
       "  </tbody>\n",
       "</table>\n",
       "</div>"
      ],
      "text/plain": [
       "                     Province  Women Life Satisfaction Rate (Age 15-24)  \\\n",
       "0             Azarbaijan_East                                     70.27   \n",
       "1             Azarbaijan_West                                     78.01   \n",
       "2                     Ardabil                                     70.63   \n",
       "3                     Isfahan                                     66.68   \n",
       "4                      Alborz                                     67.15   \n",
       "5                        Ilam                                     75.58   \n",
       "6                     Bushehr                                     69.70   \n",
       "7                      Tehran                                     65.86   \n",
       "8   Chaharmahal_and_Bakhtiari                                     73.12   \n",
       "9              Khorasan_South                                     77.89   \n",
       "10            Khorasan_Razavi                                     75.55   \n",
       "11             Khorasan_North                                     65.58   \n",
       "12                  Khuzestan                                     68.76   \n",
       "13                     Zanjan                                     72.99   \n",
       "14                     Semnan                                     76.12   \n",
       "15     Sistan_and_Baluchestan                                     77.80   \n",
       "16                       Fars                                     71.93   \n",
       "17                     Qazvin                                     79.36   \n",
       "18                        Qom                                     73.75   \n",
       "19                  Kurdistan                                     67.27   \n",
       "20                     Kerman                                     73.68   \n",
       "21  Kohgiluye_and_Boyer-Ahmad                                     68.28   \n",
       "22                   Golestan                                     73.44   \n",
       "23                      Gilan                                     70.28   \n",
       "24                   Lorestan                                     79.30   \n",
       "25                 Mazandaran                                     74.29   \n",
       "26                    Markazi                                     74.29   \n",
       "27                  Hormozgan                                     73.09   \n",
       "28                    Hamedan                                     68.21   \n",
       "29                       Yazd                                     73.23   \n",
       "\n",
       "    Women Job Satisfaction Rate (Age 15-24)  \n",
       "0                                     68.68  \n",
       "1                                     70.86  \n",
       "2                                     67.87  \n",
       "3                                     77.23  \n",
       "4                                     72.72  \n",
       "5                                     68.49  \n",
       "6                                     80.43  \n",
       "7                                     87.67  \n",
       "8                                     83.23  \n",
       "9                                     65.04  \n",
       "10                                    85.78  \n",
       "11                                    82.32  \n",
       "12                                    82.25  \n",
       "13                                    75.19  \n",
       "14                                    84.34  \n",
       "15                                    83.06  \n",
       "16                                    88.37  \n",
       "17                                    70.67  \n",
       "18                                   100.00  \n",
       "19                                    87.55  \n",
       "20                                    71.79  \n",
       "21                                    90.82  \n",
       "22                                    88.07  \n",
       "23                                    92.40  \n",
       "24                                    73.06  \n",
       "25                                    84.24  \n",
       "26                                    84.24  \n",
       "27                                    73.72  \n",
       "28                                    83.55  \n",
       "29                                   100.00  "
      ]
     },
     "execution_count": 5,
     "metadata": {},
     "output_type": "execute_result"
    }
   ],
   "source": [
    "# women = pd.read_csv(\"./data/data_WomenSatisfaction_Life_Job.csv\")\n",
    "women = pd.read_csv(\"WomenJob_vs_LifeSatisfaction.csv\")\n",
    "\n",
    "women.head(31)"
   ]
  },
  {
   "cell_type": "code",
   "execution_count": 6,
   "metadata": {},
   "outputs": [
    {
     "data": {
      "text/plain": [
       "Ttest_relResult(statistic=-4.168569023928257, pvalue=0.00025267754084451114)"
      ]
     },
     "execution_count": 6,
     "metadata": {},
     "output_type": "execute_result"
    }
   ],
   "source": [
    "stats.ttest_rel(women['Women Life Satisfaction Rate (Age 15-24)'], women['Women Job Satisfaction Rate (Age 15-24)'])"
   ]
  },
  {
   "cell_type": "code",
   "execution_count": null,
   "metadata": {},
   "outputs": [],
   "source": []
  },
  {
   "cell_type": "code",
   "execution_count": null,
   "metadata": {},
   "outputs": [],
   "source": []
  },
  {
   "cell_type": "code",
   "execution_count": null,
   "metadata": {},
   "outputs": [],
   "source": []
  },
  {
   "cell_type": "code",
   "execution_count": null,
   "metadata": {},
   "outputs": [],
   "source": []
  },
  {
   "cell_type": "code",
   "execution_count": null,
   "metadata": {},
   "outputs": [],
   "source": []
  },
  {
   "cell_type": "code",
   "execution_count": 61,
   "metadata": {},
   "outputs": [],
   "source": [
    "x_bar1 = 52.1\n",
    "sd1 = 45.1\n",
    "\n",
    "n1 = 22\n",
    "df1 = n1-1\n",
    "\n",
    "# Standard Error\n",
    "se1 = sd1 / np.sqrt(n1)"
   ]
  },
  {
   "cell_type": "markdown",
   "metadata": {},
   "source": [
    "#### <span style=\"color:darkred\"> Finding t* </span>\n",
    "\n",
    "![](asset/tscore.png)"
   ]
  },
  {
   "cell_type": "code",
   "execution_count": 115,
   "metadata": {},
   "outputs": [
    {
     "data": {
      "image/png": "[encoded data removed]",
      "text/plain": [
       "<matplotlib.figure.Figure at 0x1a205c9fd0>"
      ]
     },
     "metadata": {
      "image/png": {
       "height": 244,
       "width": 372
      }
     },
     "output_type": "display_data"
    }
   ],
   "source": [
    "fig, ax = plt.subplots(1, 1)\n",
    "x = np.linspace(stats.t.ppf(0.01, df1), stats.t.ppf(0.99, df1), 1000)\n",
    "ax.plot(x, stats.t.pdf(x, df1),'r-', lw=5, alpha=0.6, label='t pdf');"
   ]
  },
  {
   "cell_type": "markdown",
   "metadata": {},
   "source": [
    "#### <span style=\"color:darkred\"> isf: Inverse survival function: Inverse of `sf` </span>"
   ]
  },
  {
   "cell_type": "code",
   "execution_count": 96,
   "metadata": {},
   "outputs": [
    {
     "data": {
      "text/plain": [
       "2.079613844727662"
      ]
     },
     "execution_count": 96,
     "metadata": {},
     "output_type": "execute_result"
    }
   ],
   "source": [
    "# Alpha is 0.05, here going to find a t statistics for two-tails shape, each one has 0.025 probability\n",
    "\n",
    "t1 = stats.t.isf(alpha/2, n1-1)\n",
    "t1"
   ]
  },
  {
   "cell_type": "markdown",
   "metadata": {},
   "source": [
    "#### <span style=\"color:darkred\"> pdf: Probability Density Function </span>"
   ]
  },
  {
   "cell_type": "code",
   "execution_count": 99,
   "metadata": {},
   "outputs": [
    {
     "data": {
      "text/plain": [
       "0.05025149627228048"
      ]
     },
     "execution_count": 99,
     "metadata": {},
     "output_type": "execute_result"
    }
   ],
   "source": [
    "# Using pdf, the probability for the data given point which is t1=2.079, should be the alpha here is 0.05\n",
    "\n",
    "stats.t.pdf(t1, df1, loc=0, scale=1)"
   ]
  },
  {
   "cell_type": "markdown",
   "metadata": {},
   "source": [
    "#### <span style=\"color:darkred\"> cdf: Cummulative Distributionm Function </span>"
   ]
  },
  {
   "cell_type": "code",
   "execution_count": 100,
   "metadata": {},
   "outputs": [
    {
     "data": {
      "text/plain": [
       "0.9749999999999991"
      ]
     },
     "execution_count": 100,
     "metadata": {},
     "output_type": "execute_result"
    }
   ],
   "source": [
    "# Using cdf, the probability for the area below the data given point which is 2.079\n",
    "\n",
    "stats.t.cdf(t1, df1, loc=0, scale=1)"
   ]
  },
  {
   "cell_type": "markdown",
   "metadata": {},
   "source": [
    "#### <span style=\"color:darkred\"> sf: Survival Function: `1 - cdf` </span>"
   ]
  },
  {
   "cell_type": "code",
   "execution_count": 102,
   "metadata": {},
   "outputs": [
    {
     "data": {
      "text/plain": [
       "0.025000000000000917"
      ]
     },
     "execution_count": 102,
     "metadata": {},
     "output_type": "execute_result"
    }
   ],
   "source": [
    "# using sf, the probability for the area at the right of the data given point which is 2.07\n",
    "\n",
    "stats.t.sf(t1, df1, loc=0, scale=1)"
   ]
  },
  {
   "cell_type": "markdown",
   "metadata": {},
   "source": [
    "#### <span style=\"color:darkred\"> ppf: Percent Point Function: Inverse of `cdf` </span>"
   ]
  },
  {
   "cell_type": "code",
   "execution_count": 104,
   "metadata": {},
   "outputs": [
    {
     "data": {
      "text/plain": [
       "-2.079613844727662"
      ]
     },
     "execution_count": 104,
     "metadata": {},
     "output_type": "execute_result"
    }
   ],
   "source": [
    "# Using ppf to find the data given point for the probability which is alpha/2 here\n",
    "# Inverse of cdf\n",
    "# take a look at the isf\n",
    "\n",
    "stats.t.ppf(alpha/2, df1, loc=0, scale=1)"
   ]
  },
  {
   "cell_type": "markdown",
   "metadata": {},
   "source": [
    "#### <span style=\"color:darkred\"> interval </span>"
   ]
  },
  {
   "cell_type": "code",
   "execution_count": 111,
   "metadata": {},
   "outputs": [
    {
     "data": {
      "text/plain": [
       "(-0.06346049354675869, 0.06346049350116284)"
      ]
     },
     "execution_count": 111,
     "metadata": {},
     "output_type": "execute_result"
    }
   ],
   "source": [
    "# Endpoints of the range that contains alpha percent of the distribution\n",
    "stats.t.interval(alpha, df1, loc=0, scale=1)"
   ]
  },
  {
   "cell_type": "code",
   "execution_count": 114,
   "metadata": {},
   "outputs": [
    {
     "data": {
      "text/plain": [
       "(-2.079613844727662, 2.079613844727662)"
      ]
     },
     "execution_count": 114,
     "metadata": {},
     "output_type": "execute_result"
    }
   ],
   "source": [
    "stats.t.interval(0.95, df1, loc=0, scale=1)"
   ]
  },
  {
   "cell_type": "code",
   "execution_count": 116,
   "metadata": {},
   "outputs": [
    {
     "name": "stdout",
     "output_type": "stream",
     "text": [
      "0.95 confident that distracted eaters consume between 72.1 to 32.1 grams of snacks post-meal \n"
     ]
    }
   ],
   "source": [
    "# Confidence Interval Using Formula\n",
    "\n",
    "Lower_band = x_bar1 + (t1 * se1)\n",
    "upper_band = x_bar1 - (t1 * se1)\n",
    "\n",
    "print(f\"{cl} confident that distracted eaters consume between {round(Lower_band, 2)} to {round(upper_band, 2)} grams of snacks post-meal \")"
   ]
  },
  {
   "cell_type": "code",
   "execution_count": 117,
   "metadata": {},
   "outputs": [
    {
     "data": {
      "text/plain": [
       "(32.10378021910188, 72.09621978089812)"
      ]
     },
     "execution_count": 117,
     "metadata": {},
     "output_type": "execute_result"
    }
   ],
   "source": [
    "# Confidence Interval Using Scipy\n",
    "\n",
    "stats.t.interval(cl, df1, x_bar1, se1)"
   ]
  },
  {
   "cell_type": "code",
   "execution_count": 118,
   "metadata": {},
   "outputs": [
    {
     "name": "stdout",
     "output_type": "stream",
     "text": [
      "0.95 confident that distracted eaters consume between 32.104 to 72.096 grams of snacks post-meal \n"
     ]
    }
   ],
   "source": [
    "print(f\"{cl} confident that distracted eaters consume between {round(stats.t.interval(cl, dof1, x_bar1, se1)[0], 3)} to {round(stats.t.interval(cl, dof1, x_bar1, se1)[1], 3)} grams of snacks post-meal \")"
   ]
  },
  {
   "cell_type": "markdown",
   "metadata": {},
   "source": [
    "### <span style=\"color:darkred\"> One-Sample $t$-test: Hypothesis </span>\n",
    "\n",
    "> **Question:** Suppose the suggested serving size of those biscuits is 30 g. Do these data provide convincing evidence that the amount of snacks consumed by distracted eaters post-lunch is different that the suggested serving size?\n",
    "\n",
    "- $H_0: \\mu = 30$\n",
    "- $H_A: \\mu \\neq 30$\n",
    "\n",
    "> $T = \\frac{\\bar{x} - \\mu_0}{\\frac{s}{\\sqrt{n}}}$"
   ]
  },
  {
   "cell_type": "code",
   "execution_count": 119,
   "metadata": {},
   "outputs": [
    {
     "data": {
      "text/plain": [
       "2.2984077226629225"
      ]
     },
     "execution_count": 119,
     "metadata": {},
     "output_type": "execute_result"
    }
   ],
   "source": [
    "mu1 = 30\n",
    "\n",
    "# Here T is different than the t statistics, mu came to play here\n",
    "T1 = (x_bar1 - mu1) / se1\n",
    "T1"
   ]
  },
  {
   "cell_type": "markdown",
   "metadata": {},
   "source": [
    "#### <span style=\"color:darkred\"> Finding $p$-value </span>\n",
    "\n",
    "![](asset/t_Pvalue.png)"
   ]
  },
  {
   "cell_type": "code",
   "execution_count": 127,
   "metadata": {},
   "outputs": [
    {
     "data": {
      "text/plain": [
       "0.03190848757439668"
      ]
     },
     "execution_count": 127,
     "metadata": {},
     "output_type": "execute_result"
    }
   ],
   "source": [
    "p_value1 = 2 * (1 - stats.t.cdf(T1, df1))\n",
    "p_value1"
   ]
  },
  {
   "cell_type": "markdown",
   "metadata": {},
   "source": [
    "#### Considering these as well"
   ]
  },
  {
   "cell_type": "code",
   "execution_count": 126,
   "metadata": {},
   "outputs": [
    {
     "data": {
      "text/plain": [
       "0.9840457562128017"
      ]
     },
     "execution_count": 126,
     "metadata": {},
     "output_type": "execute_result"
    }
   ],
   "source": [
    "stats.t.cdf(T1, df1, loc=0, scale=1)"
   ]
  },
  {
   "cell_type": "code",
   "execution_count": 128,
   "metadata": {},
   "outputs": [
    {
     "data": {
      "text/plain": [
       "0.01595424378719836"
      ]
     },
     "execution_count": 128,
     "metadata": {},
     "output_type": "execute_result"
    }
   ],
   "source": [
    "stats.t.sf(T1, df1, loc=0, scale=1)"
   ]
  },
  {
   "cell_type": "code",
   "execution_count": 129,
   "metadata": {},
   "outputs": [
    {
     "data": {
      "text/plain": [
       "0.03340321857123187"
      ]
     },
     "execution_count": 129,
     "metadata": {},
     "output_type": "execute_result"
    }
   ],
   "source": [
    "stats.t.pdf(T1, df1, loc=0, scale=1)"
   ]
  },
  {
   "cell_type": "code",
   "execution_count": 130,
   "metadata": {},
   "outputs": [
    {
     "name": "stdout",
     "output_type": "stream",
     "text": [
      "Since P_Value is 0.03190848757439668, which is less than 0.05 it would be very unlikely to observe the data and then reject the Null Hypothesis, concluding that the mean is not equal to 30\n"
     ]
    }
   ],
   "source": [
    "if p_value1 > alpha:\n",
    "    print(f\"Since P_Value is {p_value1} which is more than {np.round(alpha, 2)} , it is likely to observe the data and then do not reject the Null Hypothesis\")\n",
    "else:\n",
    "    print(f\"Since P_Value is {p_value1}, which is less than {np.round(alpha, 2)} it would be very unlikely to observe the data and then reject the Null Hypothesis, concluding that the mean is not equal to {mu1}\")"
   ]
  },
  {
   "cell_type": "markdown",
   "metadata": {},
   "source": [
    "> **90TE**: In the hypothesis test, rejecting the null hypothesis that sets `µ` equal to 30. That means that in the confidence interval, should expect to not find that `µ`. which is true, lower band is 32.1 and upper band is 72.09"
   ]
  },
  {
   "cell_type": "markdown",
   "metadata": {},
   "source": [
    "### <span style=\"color:darkred\"> One-Sample $t$-test: Hypothesis and Confidence Interval for using pre-determined `data list` </span>\n",
    "\n",
    "- $H_0: \\mu \\geq 8$\n",
    "- $H_A: \\mu < 8$"
   ]
  },
  {
   "cell_type": "code",
   "execution_count": 131,
   "metadata": {},
   "outputs": [],
   "source": [
    "data = [6.5,7,7.5,3,4.5,5,5.5,5.5,6,6,7,6.5,6.5,5,6]\n",
    "mu = 8\n",
    "\n",
    "cl = 0.95\n",
    "df = len(data) - 1"
   ]
  },
  {
   "cell_type": "code",
   "execution_count": 132,
   "metadata": {},
   "outputs": [
    {
     "data": {
      "text/plain": [
       "Ttest_1sampResult(statistic=-7.33298897263096, pvalue=3.715806740608815e-06)"
      ]
     },
     "execution_count": 132,
     "metadata": {},
     "output_type": "execute_result"
    }
   ],
   "source": [
    "stats.ttest_1samp(data , mu)"
   ]
  },
  {
   "cell_type": "code",
   "execution_count": 133,
   "metadata": {},
   "outputs": [
    {
     "data": {
      "text/plain": [
       "(5.199616599111554, 6.467050067555112)"
      ]
     },
     "execution_count": 133,
     "metadata": {},
     "output_type": "execute_result"
    }
   ],
   "source": [
    "stats.t.interval(cl, df, np.mean(data), stats.sem(data))"
   ]
  },
  {
   "cell_type": "code",
   "execution_count": 136,
   "metadata": {},
   "outputs": [
    {
     "name": "stdout",
     "output_type": "stream",
     "text": [
      "0.95 of the observations fall between 5.1996 and 6.4671\n"
     ]
    }
   ],
   "source": [
    "print(f\"{cl} of the observations fall between {np.round(stats.t.interval(cl, df, np.mean(data), stats.sem(data))[0], 4)} and {np.round(stats.t.interval(cl, df, np.mean(data), stats.sem(data))[1], 4)}\")"
   ]
  },
  {
   "cell_type": "code",
   "execution_count": 138,
   "metadata": {},
   "outputs": [
    {
     "data": {
      "text/plain": [
       "(3.4621824336101557, 8.20448423305651)"
      ]
     },
     "execution_count": 138,
     "metadata": {},
     "output_type": "execute_result"
    }
   ],
   "source": [
    "stats.t.interval(cl, df, np.mean(data), np.std(data))"
   ]
  },
  {
   "cell_type": "markdown",
   "metadata": {},
   "source": [
    "## <span style=\"color:darkred\"> 2 - Two-Sample $t$-test </span>\n",
    "\n",
    "When doing experiments, more likely to compare results from two groups instead of comparing one group to a number. This is where a **two-sample $t$-test** comes into play. \n",
    "\n",
    "A **two-sample $t$-test** is appropriate to compare two **independent** samples' means and test whether it is likely that the two populations could have the same mean. It's different than a **matched pairs $t$-test** which is appropriate to compare two **dependent** samples' means and test whether it is likely that the two populations could have the same mean.\n",
    "\n",
    "Check out the [documentation1](https://docs.scipy.org/doc/scipy/reference/generated/scipy.stats.ttest_ind.html#scipy.stats.ttest_ind) and [documentation2](https://docs.scipy.org/doc/scipy/reference/generated/scipy.stats.ttest_ind_from_stats.html) for a two-sample $t$-test.\n",
    "\n",
    "![](asset/twoIndttest.png)\n",
    "\n",
    "This estimate is not exact degrees of freedom. The exact formula is actually kind of complicated. However this is a pretty good conservative estimate (because of MIN). And when doing inference especially based on small samples, better to be conservative. Because should not act like having more degrees of freedom, or in other words, more data, than actually exists. By the way the exact formula is:\n",
    "\n",
    "![](asset/twoIndttest_df.png)"
   ]
  },
  {
   "cell_type": "markdown",
   "metadata": {},
   "source": [
    "### <span style=\"color:darkred\"> TWO-Sample $t$-test: Hypothesis Test </span>\n",
    "\n",
    "> **Question:** Does data in the case study provide convincing evidence of a difference between the average post-meal snack consumption between those who eat with and without distractions?\n",
    "\n",
    "- $H_0: \\mu1 - \\mu2 = 0$\n",
    "- $H_A: \\mu1 - \\mu2 \\neq 0$"
   ]
  },
  {
   "cell_type": "code",
   "execution_count": 183,
   "metadata": {},
   "outputs": [
    {
     "data": {
      "text/plain": [
       "33.879263805934805"
      ]
     },
     "execution_count": 183,
     "metadata": {},
     "output_type": "execute_result"
    }
   ],
   "source": [
    "a = np.square((np.square(sd1)/n1) + (np.square(sd2)/n2))\n",
    "b = (1/(n1-1))*np.square((np.square(sd1)/n1))\n",
    "c = (1/(n2-1))*np.square((np.square(sd2)/n2))\n",
    "DF = a / (b + c)\n",
    "DF"
   ]
  },
  {
   "cell_type": "code",
   "execution_count": 175,
   "metadata": {},
   "outputs": [
    {
     "data": {
      "text/plain": [
       "2.243845159634432"
      ]
     },
     "execution_count": 175,
     "metadata": {},
     "output_type": "execute_result"
    }
   ],
   "source": [
    "# Null Hypothesis:\n",
    "# mu1 - mu2 == 0\n",
    "\n",
    "x_bar1 = 52.1\n",
    "sd1 = 45.1\n",
    "\n",
    "n1 = 22\n",
    "df1 = n1-1\n",
    "\n",
    "x_bar2 = 27.1\n",
    "sd2 = 26.4\n",
    "\n",
    "n2 = 22\n",
    "df2 = n2-1\n",
    "\n",
    "# Standard Error\n",
    "se = np.sqrt((np.square(sd1) / (n1)) + (np.square(sd2) / (n2)))\n",
    "\n",
    "# Degrees of Freedom\n",
    "df = min(df1,df2)\n",
    "\n",
    "# mu1 - mu2 = 0\n",
    "T = ((x_bar1 - x_bar2) - 0) / se\n",
    "T"
   ]
  },
  {
   "cell_type": "markdown",
   "metadata": {},
   "source": [
    "![](asset/twottest_T.png)"
   ]
  },
  {
   "cell_type": "code",
   "execution_count": 176,
   "metadata": {},
   "outputs": [
    {
     "data": {
      "text/plain": [
       "0.03575082267141538"
      ]
     },
     "execution_count": 176,
     "metadata": {},
     "output_type": "execute_result"
    }
   ],
   "source": [
    "p_value = 2 * (1 - stats.t.cdf(T, df))\n",
    "p_value"
   ]
  },
  {
   "cell_type": "code",
   "execution_count": 177,
   "metadata": {},
   "outputs": [
    {
     "name": "stdout",
     "output_type": "stream",
     "text": [
      "Since P_Value is 0.036, which is less than 0.05 it would be very unlikely to observe the data and then reject the Null Hypothesis, concluding that these data do indeed provide convincing evidence that there is a difference between the average snack intakes of post meal of people who eat their meal while distracted verses those without any distraction. \n"
     ]
    }
   ],
   "source": [
    "if p_value > alpha:\n",
    "    print(f\"Since P_Value is {np.round(p_value, 3)} which is more than {np.round(alpha, 2)} , it is likely to observe the data and then do not reject the Null Hypothesis\")\n",
    "else:\n",
    "    print(f\"Since P_Value is {np.round(p_value, 3)}, which is less than {np.round(alpha, 2)} it would be very unlikely to observe the data and then reject the Null Hypothesis, concluding that these data do indeed provide convincing evidence that there is a difference between the average snack intakes of post meal of people who eat their meal while distracted verses those without any distraction. \")"
   ]
  },
  {
   "cell_type": "markdown",
   "metadata": {},
   "source": [
    "#### <span style=\"color:darkred\"> Finding $p$-value and T </span>\n",
    "\n",
    "[documentation](https://docs.scipy.org/doc/scipy/reference/generated/scipy.stats.ttest_ind_from_stats.html)\n",
    "\n",
    "> **Here, since not using the exact correct version of df, $p$-value is slightly different than the previous section**"
   ]
  },
  {
   "cell_type": "code",
   "execution_count": 178,
   "metadata": {},
   "outputs": [
    {
     "data": {
      "text/plain": [
       "Ttest_indResult(statistic=2.2438451596344318, pvalue=0.03017203250342612)"
      ]
     },
     "execution_count": 178,
     "metadata": {},
     "output_type": "execute_result"
    }
   ],
   "source": [
    "stats.ttest_ind_from_stats(x_bar1, sd1, n1, x_bar2, sd2, n2, equal_var=True)"
   ]
  },
  {
   "cell_type": "markdown",
   "metadata": {},
   "source": [
    "### <span style=\"color:darkred\"> TWO-Sample $t$-test: Confidence Interval </span>\n",
    "\n",
    "> **Question:** Estimating the difference between the average post-meal snack consumption between those who eat with and without distractions?"
   ]
  },
  {
   "cell_type": "markdown",
   "metadata": {},
   "source": [
    "#### <span style=\"color:darkred\"> Finding t* </span>\n",
    "\n",
    "![](asset/tscore.png)"
   ]
  },
  {
   "cell_type": "code",
   "execution_count": 157,
   "metadata": {},
   "outputs": [
    {
     "data": {
      "text/plain": [
       "2.079613844727662"
      ]
     },
     "execution_count": 157,
     "metadata": {},
     "output_type": "execute_result"
    }
   ],
   "source": [
    "# Alpha is 0.05, here going to find a t statistics for two-tails shape, each one has 0.025 probability\n",
    "\n",
    "t = stats.t.isf(alpha/2, min(n1-,n2-1))\n",
    "t"
   ]
  },
  {
   "cell_type": "code",
   "execution_count": 153,
   "metadata": {},
   "outputs": [
    {
     "name": "stdout",
     "output_type": "stream",
     "text": [
      "0.95 confident that distracted eaters consume between 1.83 to 48.17 grams of snacks post-meal \n"
     ]
    }
   ],
   "source": [
    "Lower_band = (x_bar1 - x_bar2) - t * (se)\n",
    "upper_band = (x_bar1 - x_bar2) + t * (se)\n",
    "\n",
    "print(f\"{cl} confident that distracted eaters consume between {round(Lower_band, 2)} to {round(upper_band, 2)} grams of snacks post-meal \")"
   ]
  },
  {
   "cell_type": "code",
   "execution_count": 155,
   "metadata": {},
   "outputs": [
    {
     "data": {
      "text/plain": [
       "(1.8297977714906892, 48.17020222850931)"
      ]
     },
     "execution_count": 155,
     "metadata": {},
     "output_type": "execute_result"
    }
   ],
   "source": [
    "# Confidence Interval Using Scipy\n",
    "\n",
    "stats.t.interval(cl, df, x_bar1-x_bar2, se)"
   ]
  },
  {
   "cell_type": "code",
   "execution_count": 156,
   "metadata": {},
   "outputs": [
    {
     "name": "stdout",
     "output_type": "stream",
     "text": [
      "0.95 confident that distracted eaters consume between 1.83 to 48.17 grams of snacks post-meal \n"
     ]
    }
   ],
   "source": [
    "print(f\"{cl} confident that distracted eaters consume between {round(stats.t.interval(cl, df, x_bar1-x_bar2, se)[0], 3)} to {round(stats.t.interval(cl, df, x_bar1-x_bar2, se)[1], 3)} grams of snacks post-meal \")"
   ]
  },
  {
   "cell_type": "markdown",
   "metadata": {},
   "source": [
    "> **90TE:** Rejecting the null hypothesis that set the difference between the two means equal to zero, and therefor that null value should not be included in the confidence interval (1.83, 48.17) and indeed zero is not in the confidence interval"
   ]
  },
  {
   "cell_type": "markdown",
   "metadata": {},
   "source": [
    "### <span style=\"color:darkred\"> Two-Sample $t$-test: Using pre-determined `data list` </span>"
   ]
  },
  {
   "cell_type": "code",
   "execution_count": 158,
   "metadata": {},
   "outputs": [
    {
     "data": {
      "text/plain": [
       "Ttest_indResult(statistic=-0.9784163096277243, pvalue=0.34572599932044457)"
      ]
     },
     "execution_count": 158,
     "metadata": {},
     "output_type": "execute_result"
    }
   ],
   "source": [
    "data = [6.5,7,7.5,3,4.5,5,5.5,5.5,6,6,7,6.5,6.5,5,6]\n",
    "group_a = data[0:8]\n",
    "group_b = data[8:]\n",
    "\n",
    "stats.ttest_ind(group_a, group_b)"
   ]
  },
  {
   "cell_type": "markdown",
   "metadata": {},
   "source": [
    "## <span style=\"color:darkred\"> 3- Matched Pairs $t$-test <span style=\"color:red\"> ... This section will be continuing after ANOVA </span></span> \n",
    "\n",
    "From the documentation for the two-sample $t$-test, it was very clear that the two samples needed to be **independent** of one another. That is, changes in one group should not affect the other group.\n",
    "\n",
    "However, this isn't always the case. Suppose developing a drug that helps to reduce the systolic blood pressure of individuals. Then: \n",
    "- Recruit 10 individuals to participate in the study.\n",
    "- Measuring all 10 patients' systolic blood pressure.\n",
    "- Administering the drug to all 10 patients over the course of eight weeks.\n",
    "- Measuring all 10 patients' systolic blood pressure again.\n",
    "\n",
    "In this case, comparing the **pre-**drug values against the **post-**drug values to see if the drug had the intended effect. Here, the pre-drug values and post-drug values are certainly not independent of one another - taking the measurements on the same people!\n",
    "\n",
    "This is where the **matched pairs $t$-test** comes into play. The matched pairs t-test is a way to take two dependent samples and compare their means. (Spoiler alert: it just takes sample 2, subtracts sample 1, and conducts a one-sample $t$-test on the difference.)\n",
    "\n",
    "<details><summary>\n",
    "In this case, what the hypotheses would be?\n",
    "</summary>\n",
    "```\n",
    "H_0: mu_pre = mu_post\n",
    "H_A: mu_pre != mu_post\n",
    "```\n",
    "</details>\n",
    "\n",
    "Checking out the [documentation](https://docs.scipy.org/doc/scipy/reference/generated/scipy.stats.ttest_rel.html) for a matched pairs $t$-test."
   ]
  },
  {
   "cell_type": "code",
   "execution_count": 159,
   "metadata": {},
   "outputs": [],
   "source": [
    "systolic_pre = [130,135,139,153,160,142,136,128,144,155]\n",
    "systolic_post = [125,134,140,151,160,140,138,124,141,148]"
   ]
  },
  {
   "cell_type": "code",
   "execution_count": 160,
   "metadata": {},
   "outputs": [
    {
     "data": {
      "text/plain": [
       "Ttest_relResult(statistic=2.400108850942297, pvalue=0.039890766746082586)"
      ]
     },
     "execution_count": 160,
     "metadata": {},
     "output_type": "execute_result"
    }
   ],
   "source": [
    "stats.ttest_rel(systolic_pre, systolic_post)"
   ]
  },
  {
   "cell_type": "markdown",
   "metadata": {},
   "source": [
    "# <span style=\"color:darkred\"> Interference for Numerical Variables - ANOVA & F Distribution </span>\n",
    "\n",
    "Suppose having three assembly lines running in a factor and want to identify if the lines are all performing at roughly the same level, or if at least one line is slower than the others.\n",
    "\n",
    "In this case, it's not possible to run a one-sample or a two-sample test... so need to use **ANOVA**, or **\"Analysis of Variance,\"** which compare more than two **independent** samples means and test whether it is likely that all populations could have the same mean.\n",
    "\n",
    "Despite its name, ANOVA is a type of hypothesis test that will test whether or not all samples have the same mean.\n",
    "\n",
    "<details><summary>\n",
    "In this case, what would be the hypotheses would be?\n",
    "</summary>\n",
    "```\n",
    "H_0: mu_A = mu_B = mu_C = ...\n",
    "H_A: at least one mu_i != mu_j.\n",
    "```\n",
    "</details>\n",
    "\n",
    "Checking out the [documentation](https://docs.scipy.org/doc/scipy/reference/generated/scipy.stats.f_oneway.html) for ANOVA.\n",
    "\n",
    "# <span style=\"color:darkred\"> Case Study B </span>\n",
    "\n",
    "Considering two variables from the general social survey: \n",
    "> A vocabulary score, which is calculated based on ten question vocabulary test &\n",
    "\n",
    "> A self-identified social class\n",
    "\n",
    "In the first variable, respondents are given the list of words and asked to choose a word from a list of provided options that comes closest to the meaning of the first word provided in the capital letters. \n",
    "\n",
    "* Here is the **distribution of the vocabulary scores**. This variable is a numerical variable that ranges from zero to 10, so a histogram is a good option for visualizing this distribution\n",
    "\n",
    "![](asset/histt.png)\n",
    "\n",
    "* As for the **social class**, respondents were asked to choose their social class among 4 categories. The distribution of this categorical variable and the bar plot presented as following!\n",
    "\n",
    "![](asset/barr.png)\n",
    "\n",
    "> **Now trying to figure out how these two variables are related to each other, using the table below:**\n",
    "\n",
    "![](asset/anovatable.png)\n",
    "\n",
    "> **As shown here the problem is to compare more than two means to each other.**\n",
    "The goal is to find out if there is a difference between the average vocabulary scores of American from different self-reported classes.\n",
    "\n",
    "> To compare means of three or more groups using a test called **Analysis of Variance (ANOVA)** and a statistic which is called `F` statistic. "
   ]
  },
  {
   "cell_type": "markdown",
   "metadata": {},
   "source": [
    "## <span style=\"color:darkred\"> Hypothesis in ANOVA </span>\n",
    "\n",
    "- $H_0: \\mu_A = \\mu_B = \\mu_C$ = ...\n",
    "- $H_A:$\n",
    "at least one\n",
    "$\\mu_i \\neq \\mu_j$\n",
    "\n",
    "> **ANOVA** does not tell which means are different from each other. It also does not tell, necessarily, that all of the means are different from each other. \n",
    "\n",
    "> Basically what it’s telling is that there may be something interesting to investigate further because the next natural question would be what, which groups? "
   ]
  },
  {
   "cell_type": "markdown",
   "metadata": {},
   "source": [
    "## <span style=\"color:darkred\"> ANOVA Test </span>\n",
    "\n",
    "![](asset/anovatest.png)\n",
    "\n",
    "**90TE:** Large test statistics always lead to small P-values. Because the further pushing test statistics to the tails of the distribution the thinier tail areas are going to be left with. And If the P-Value is small enough, possible to reject the null hupothesis and conclude the data provide evidence of a difference in the population means.\n"
   ]
  },
  {
   "cell_type": "markdown",
   "metadata": {},
   "source": [
    "## <span style=\"color:darkred\"> F Distribution Shape </span>\n",
    "\n",
    "![](asset/f.png)\n",
    "\n",
    "The `F` Distribution is right skewed and the $P$-Value is calculated as the shaded area shown here, **the tail area beyond the observed F statistic.** \n",
    "\n",
    "> In order to reject the null hypothesis, need to have a small P-Value, which requires a large F statistic\n",
    "\n",
    "> In order to obtain a large F statistic, variability between sample means need to be much greater than the variability within sample means. \n",
    "\n",
    "**So the goal here is going to be to determine measures of variability between and within groups.**"
   ]
  },
  {
   "cell_type": "markdown",
   "metadata": {},
   "source": [
    "In the example above:\n",
    "\n",
    "- **The vocabulary score is the response variable (dependent)** and \n",
    "\n",
    "- **Class is the explanatory variable(Independent).**\n",
    "![](asset/cse.png)"
   ]
  },
  {
   "cell_type": "markdown",
   "metadata": {},
   "source": [
    "### <span style=\"color:darkred\"> Variability Partitioning </span>\n",
    "\n",
    "**Variability Partitioning** means considering different factors that might contribute to variability in the data.\n",
    "\n",
    "![](asset/partition.png)\n",
    "\n",
    "Here partitioning total variability in vocabulary score into two different groups:\n",
    "\n",
    "-\tThe first one is the **variability that can be attributed to the social class** and \n",
    "-\tThe other portion is the **variability attributed to all other factors**. \n",
    "\n",
    "> variability attributed to **social class is the between group variability**, and group here meaning the grouping variable that considering in this analysis.\n",
    "\n",
    "> The other type of variability is what not interested in. Saying that **within group variability** because once splitting respondents into the four groups, according to explanatory variable, should know how much variability is still remaining within each group that may be due to factors other than the social class. \n",
    "\n",
    "**90TE**: once putting the respondents into the four different social class, within each class everybody has the same class now. So any further variability that’s observed within the groups is going to be due to other reasons, and that’s what calling the within group variability."
   ]
  },
  {
   "cell_type": "markdown",
   "metadata": {},
   "source": [
    "## <span style=\"color:darkred\"> ANOVA Output </span>\n",
    "\n",
    "This is what the ANOVA output usually looks like. Having two rows and then a total row and the two rows are about the between group and the within group variability\n",
    "\n",
    "![](asset/anovaoutput.png)\n",
    "\n",
    "Here the following should be calculated:\n",
    "\n",
    "- SST\n",
    "- SSG\n",
    "- SSE\n",
    "- df for Group\n",
    "- df for Error\n",
    "- Mean Square (MSG & MSE)\n",
    "- $F$-Value\n",
    "- $P$-Value"
   ]
  },
  {
   "cell_type": "markdown",
   "metadata": {},
   "source": [
    "#### <span style=\"color:darkred\"> 1- SST (Sum of Squares Total) </span>\n",
    "\n",
    "**SST** measures the total variability in the response variable.\n",
    "-\tIn this case the response variable is the vocabulary scores. So, 3106.36 is the total variability in the vocabulary scores. \n",
    "\n",
    "![](asset/SST.png)\n",
    "\n",
    "-\tIt’s calculated very similarly to variance except it’s not scaled by the sample size. \n",
    "\n",
    "![](asset/SSTc.png)\n",
    "\n",
    "Here, `y̅` is the overall mean, before doing any splitting into groups. Taking the differences between each observation, and then the sample mean, square the differences, and add them up. And `n`, here, stands for, as usual, the sample size. \n",
    "\n",
    "* The number here (3106.36) is on its own, it’s not a very meaningful number. \n",
    "\n",
    "#### <span style=\"color:darkred\"> 1-2- SSG (Sum of Squares Group) </span>\n",
    "\n",
    "**SSG** measures the variability between groups. This is the explained variability, meaning that explained by the explanatory variable considering in this particular analysis.\n",
    "\n",
    "It calculates by deviation of each one of the group means from overall mean, and then going to weight that by the sample size. So, Here looking at how much does each group, on average, differ from the overall sample mean\n",
    "\n",
    "![](asset/SSG.png)\n",
    "\n",
    "Again, this number is also on its own, and it is not necessarily a meaningful number. \n",
    "\n",
    "> However possible to think about how big this number is in comparison to the overall variability that been calculated in the previous step to see what percent of the variability can be attributed to the group, the explanatory variable that working with.\n",
    "\n",
    "> So, the ratio is important, but the actual magnitudes of the numbers are not necessarily what are focusing on here. \n",
    "\n",
    "#### <span style=\"color:darkred\"> 1-3- SSE (Sum of Squares Error) </span>\n",
    "\n",
    "**SSE** measures the variability within groups. The row in between in the group and the total, could be called the residuals. It's an Unexplained variability meaning unexplained by the grouping variable that been considering, but it’s the variability that’s due to all the other reasons that are not considering in this analysis. \n",
    "\n",
    "![](asset/SSE.png)\n",
    "\n",
    "> Again, the magnitude of SSE (here is: 2896.8) is not important, but let’s take a look at the ratios real quick.\n",
    "\n",
    "It appears that, of the total variability, more of it (a higher proportion of it), can be attributed to the **within group**, or the **error**, as opposed to the grouping variable. \n",
    "\n",
    "> So the grouping variable that considering here, is not doing a great job explaining the overall variability. Meaning there must be many other reasons that contribute to, why people score differently on the vocabulary test. There must be many other reasons than just their self-identified class. Something like education, or how much they read, would probably be a much better indicator of their score than their self-identified social class."
   ]
  },
  {
   "cell_type": "markdown",
   "metadata": {},
   "source": [
    "#### <span style=\"color:darkred\"> 2- Average Variability (Mean Square, MSG & MSE) </span>\n",
    "\n",
    "Now, need to get from these measures of total variability that just calculated to **average variability**. Going to scale by a measure that incorporates the sample sizes and the number of groups that exist.\n",
    "> A measure incorporates both the sample size and the number of group is **degrees of freedom**. \n",
    "\n",
    "![](asset/MSGMSE.png)\n"
   ]
  },
  {
   "cell_type": "markdown",
   "metadata": {},
   "source": [
    "#### <span style=\"color:darkred\"> 3- F Statistics </span>\n",
    "\n",
    "**F Statistic** is Calculating by the ratio of the between and within group variability\n",
    "\n",
    "![](asset/Fstatistics.png)"
   ]
  },
  {
   "cell_type": "markdown",
   "metadata": {},
   "source": [
    "#### <span style=\"color:darkred\"> 4- $p$ Value </span>\n",
    "\n",
    "![](asset/pvalue_f.png)\n",
    "\n",
    "> **$P$-Value is the probability of at least as large a ratio between the “between” and “within” group variability, if in fact, the means of all groups are equal to each other. This is another way of saying P-Value is the probability of observed or more extreme outcome, if in fact, the null hypothesis is true.**\n",
    "\n",
    "> This is going to be the area under the F curve, and note that **F curve has two degrees of freedom associated with it**, the group and the error. And that’s going to be any area that’s above the observed F statistic. "
   ]
  },
  {
   "cell_type": "markdown",
   "metadata": {},
   "source": [
    "### <span style=\"color:darkred\"> Conditions for ANOVA </span>\n",
    "\n",
    "There are there main conditions for ANOVA:\n",
    "\n",
    "> **Independence** \n",
    "-\t**Within groups independence:** sample observation must be independent of each other \n",
    "-\t**Between group independence:** The groups must be independent of each other (non-paired)\n",
    "\n",
    "> **Approximate Normality:** Distributions should be nearly normal within each group\n",
    "\n",
    "> **Equal variance:** Groups should have roughly equal variability\n",
    "\n",
    "#### <span style=\"color:darkred\"> Independence </span>\n",
    "\n",
    "Sampled observations must be independent of each other using:\n",
    "-\tRandom sample / assignment\n",
    "-\tSample size for each group needs to be less than 10% of respective population\n",
    "-\tCarefully consider whether the groups may independent (no pairing between the groups). \n",
    "> If groups are paired or dependent on each other, there are methods for doing ANOVA for them as well (called: **Repeated Measures ANOVA**)  \n",
    "\n",
    "#### <span style=\"color:darkred\"> Approximately Normality </span>\n",
    "\n",
    "The distribution of the response variable within each group should be approximately normal, and this is especially important when the sample size is small. \n",
    "> One way to checking for this condition could be looking at normal probability plots for each one of the groups. \n",
    "\n",
    "#### <span style=\"color:darkred\"> Constant Variance </span>\n",
    "\n",
    "* Variability should be consistent across groups. **In other words, groups should be homoscedastic.**\n",
    "\n",
    "* This is especially important when the sample sizes differ between groups. So, if having equal sample sizes, may not care about it as much. But if don’t, then want to make sure that having roughly equal variability across the groups. \n",
    "> Checking this condition using side by side box plots"
   ]
  },
  {
   "cell_type": "code",
   "execution_count": 2,
   "metadata": {},
   "outputs": [],
   "source": [
    "# The vocabulary score is the response (dep) variable and\n",
    "# Class is the explanatory (ind) variable.\n",
    "\n",
    "n1 = 41\n",
    "x_bar1 = 5.07\n",
    "sd1 = 2.24\n",
    "\n",
    "n2 = 407\n",
    "x_bar2 = 5.75\n",
    "sd2 = 1.87\n",
    "\n",
    "n3 = 331\n",
    "x_bar3 = 6.76\n",
    "sd3 = 1.89\n",
    "\n",
    "n4 = 16\n",
    "x_bar4 = 6.19\n",
    "sd4 = 2.34\n",
    "\n",
    "n_total = 795\n",
    "x_bar_total = 6.14\n",
    "sd_total = 1.98"
   ]
  },
  {
   "cell_type": "markdown",
   "metadata": {},
   "source": [
    "#### <span style=\"color:darkred\"> Sum of Squares </span>"
   ]
  },
  {
   "cell_type": "code",
   "execution_count": 3,
   "metadata": {},
   "outputs": [],
   "source": [
    "# Sum of Squares Total, total variability in the response variable (all the observations)\n",
    "sst = 3106.36"
   ]
  },
  {
   "cell_type": "code",
   "execution_count": 4,
   "metadata": {},
   "outputs": [],
   "source": [
    "# Sum of Squares Group, measures the variability between groups\n",
    "ssg = n1*(np.square(x_bar1 - x_bar_total)) + n2*(np.square(x_bar2 - x_bar_total))+ n3*(np.square(x_bar3 - x_bar_total)) + n4*(np.square(x_bar4 - x_bar_total))\n",
    "ssg = 236.56"
   ]
  },
  {
   "cell_type": "code",
   "execution_count": 5,
   "metadata": {},
   "outputs": [],
   "source": [
    "## Sum of Squares Error, measures the variability within groups.\n",
    "sse = sst - ssg"
   ]
  },
  {
   "cell_type": "markdown",
   "metadata": {},
   "source": [
    "#### <span style=\"color:darkred\"> Degress of Freedom </span>"
   ]
  },
  {
   "cell_type": "code",
   "execution_count": 6,
   "metadata": {},
   "outputs": [],
   "source": [
    "# Total Number of Groups, here is class\n",
    "n_group = 4\n",
    "df_group = n_group - 1\n",
    "\n",
    "# Total Number of Observations\n",
    "n_total = 795\n",
    "df_total = n_total - 1\n",
    "\n",
    "# Degrees of Freedom of the Error\n",
    "df_error = df_total - df_group"
   ]
  },
  {
   "cell_type": "markdown",
   "metadata": {},
   "source": [
    "#### <span style=\"color:darkred\"> Average Variability </span>"
   ]
  },
  {
   "cell_type": "code",
   "execution_count": 7,
   "metadata": {},
   "outputs": [],
   "source": [
    "# Average Variability between groups\n",
    "msg = ssg / df_group\n",
    "\n",
    "# Average Variability within groups\n",
    "mse = sse / df_error"
   ]
  },
  {
   "cell_type": "markdown",
   "metadata": {},
   "source": [
    "#### <span style=\"color:darkred\"> F Value </span>"
   ]
  },
  {
   "cell_type": "code",
   "execution_count": 8,
   "metadata": {},
   "outputs": [
    {
     "data": {
      "text/plain": [
       "21.73426255023579"
      ]
     },
     "execution_count": 8,
     "metadata": {},
     "output_type": "execute_result"
    }
   ],
   "source": [
    "# F Value\n",
    "F = msg / mse\n",
    "F"
   ]
  },
  {
   "cell_type": "markdown",
   "metadata": {},
   "source": [
    "#### <span style=\"color:darkred\"> $p$-value </span>"
   ]
  },
  {
   "cell_type": "code",
   "execution_count": 10,
   "metadata": {},
   "outputs": [
    {
     "data": {
      "text/plain": [
       "1.56097357262297e-13"
      ]
     },
     "execution_count": 10,
     "metadata": {},
     "output_type": "execute_result"
    }
   ],
   "source": [
    "1 - stats.f.cdf(F, df_group, df_error)"
   ]
  },
  {
   "cell_type": "markdown",
   "metadata": {},
   "source": [
    "### <span style=\"color:darkred\"> ANOVA Using pre-determined `data list` </span>"
   ]
  },
  {
   "cell_type": "code",
   "execution_count": 11,
   "metadata": {},
   "outputs": [],
   "source": [
    "line_a = [6,5,4,8,7]\n",
    "line_b = [6,4,3,7,4]\n",
    "line_c = [1,3,2,4,4]"
   ]
  },
  {
   "cell_type": "code",
   "execution_count": 12,
   "metadata": {},
   "outputs": [
    {
     "data": {
      "text/plain": [
       "F_onewayResult(statistic=5.681159420289854, pvalue=0.018365036502725765)"
      ]
     },
     "execution_count": 12,
     "metadata": {},
     "output_type": "execute_result"
    }
   ],
   "source": [
    "stats.f_oneway(line_a,line_b,line_c)"
   ]
  },
  {
   "cell_type": "markdown",
   "metadata": {},
   "source": [
    "## <span style=\"color:darkred\"> Multiple Comparison & Modified Significance Level </span>\n",
    "\n",
    "The natural next question after rejecting the null hypothesis in ANOA is: \n",
    "> **Which means are actually different from each other?**\n",
    "\n",
    "#### This is what to be addressed but, before that, considering an important factor which is a **modified Significance Level**\n",
    "\n",
    "Note thta with each test there is a possibility to incur a **type 1 error (significance level, usually 5%)**.\n",
    "\n",
    "* If doing only one test, then just having a **5% type 1 error rate**.\n",
    "\n",
    "* If doing many, many tests, though, going to be **inflating the type 1 error rate** because with each one, incurring the same rate, and that is not something that want to do. \n",
    "> **when doing hypothesis tests, should keep the error rates down as much as possible**"
   ]
  },
  {
   "cell_type": "markdown",
   "metadata": {},
   "source": [
    "### <span style=\"color:darkred\"> Modified Significance Level </span>\n",
    "\n",
    "The idea is:\n",
    "-\tDoing two sample t tests for differences in each possible pair of groups and\n",
    "-\tWhen doing multiple tests, though, talking about how going to be inflating Type 1 error rate\n",
    "-\tSo, the solution proposing here is to use a **modified significance level**\n",
    "\n",
    "### <span style=\"color:darkred\"> Multiple Comparison </span>\n",
    "\n",
    "**The idea of testing many pairs of groups at once is called multiple comparisons**\n",
    "\n",
    "* The **Bunferroni Correction** suggests that a more stringent significance level is more appropriate for these tests\n",
    "\n",
    "> **And here this is not how many groups having, but how many comparisons considering. So, how many pairs possible to be  between these groups** \n",
    "\n",
    "* `K`: Number of Comparison\n",
    "\n",
    "* `k`: Number of Groups\n",
    "\n",
    "![](asset/bc.png)\n",
    "\n",
    "**In the social class variables there are 4 levels. If α=0.05, the modified significance level for two sample t tests, determining which pairs of groups have significantly different means are as below:**"
   ]
  },
  {
   "cell_type": "code",
   "execution_count": 23,
   "metadata": {},
   "outputs": [
    {
     "data": {
      "text/plain": [
       "0.0083"
      ]
     },
     "execution_count": 23,
     "metadata": {},
     "output_type": "execute_result"
    }
   ],
   "source": [
    "alpha = 0.05\n",
    "\n",
    "# Number of Groups\n",
    "k = 4\n",
    "\n",
    "# Number of Comparisons\n",
    "k_capital = k * (k-1) / 2\n",
    "\n",
    "# Modified Significance Level\n",
    "alpha_star = alpha / k_capital\n",
    "np.round(alpha_star, 4)"
   ]
  },
  {
   "cell_type": "markdown",
   "metadata": {},
   "source": [
    "## <span style=\"color:darkred\"> 3- Matched Pairs $t$-test <span style=\"color:red\"> ... This section is the continious part from T Distributon </span></span> \n",
    "\n",
    "Checking out the [documentation](https://docs.scipy.org/doc/scipy/reference/generated/scipy.stats.ttest_rel.html) for a matched pairs $t$-test.\n",
    "\n",
    "The natural next question after rejecting the null hypothesis is: \n",
    "> **Which means are actually different from each other?**\n",
    "\n",
    "* For multiple comparisons after ANOVA, since the assumption of equal variability across groups must have been satisfied, now going to have to re-think the standard error and the degrees of freedom.\n",
    "\n",
    " > **1. Need to have a *consistent measure of standard error* and *consistent degrees of freedom* for all tests regardless of the individual groups, standard deviations or sample sizes**\n",
    " \n",
    " > **2. At the end, comparing the $P$-Values from each of these tests to the modified significance level, the more stringent one as oppose to the initial significance level of usually 5%!**\n",
    "\n",
    "> For the standard error, instead of using the individual variances for the groups that suppose to be compared, simply using the means square error from the ANOVA output.\n",
    "\n",
    "> For the degrees of freedom, simply going to use a consistent degree of freedom for each of the pairings regardless of the sample sizes of the groups that bing comparing and that’s going to be the degrees of freedom associated with the error term\n",
    "\n",
    "![](asset/mc.png)\n",
    "\n",
    "#### <span style=\"color:darkred\"> Question: Is there a difference between the average vocabulary scores between middle and lower class Americans </span> \n",
    "\n",
    "- $H_0: \\mu_3 - \\mu_1 = 0$\n",
    "- $H_A: \\mu_3 - \\mu_1 \\neq 0$"
   ]
  },
  {
   "cell_type": "markdown",
   "metadata": {},
   "source": [
    "#### <span style=\"color:darkred\"> Hypothesis Test </span>"
   ]
  },
  {
   "cell_type": "code",
   "execution_count": 41,
   "metadata": {},
   "outputs": [],
   "source": [
    "# Null Hypothesis:\n",
    "# mu3 - mu1 == 0\n",
    "\n",
    "cl = 0.95\n",
    "\n",
    "# Standard Error\n",
    "se = np.sqrt(mse/n3 + mse/n1)\n",
    "\n",
    "# Degress of Freedom\n",
    "df = df_error\n",
    "\n",
    "# Modified Significance Level\n",
    "alpha_star = alpha_star"
   ]
  },
  {
   "cell_type": "code",
   "execution_count": 42,
   "metadata": {},
   "outputs": [
    {
     "data": {
      "text/plain": [
       "5.358997889910534"
      ]
     },
     "execution_count": 42,
     "metadata": {},
     "output_type": "execute_result"
    }
   ],
   "source": [
    "# mu3 - mu1 = 0\n",
    "T = ((x_bar3 - x_bar1) - 0) / se\n",
    "T"
   ]
  },
  {
   "cell_type": "code",
   "execution_count": 43,
   "metadata": {},
   "outputs": [
    {
     "data": {
      "text/plain": [
       "1.0985643617011931e-07"
      ]
     },
     "execution_count": 43,
     "metadata": {},
     "output_type": "execute_result"
    }
   ],
   "source": [
    "p_value = 2 * (1 - stats.t.cdf(T, df))\n",
    "p_value"
   ]
  },
  {
   "cell_type": "code",
   "execution_count": 44,
   "metadata": {},
   "outputs": [
    {
     "name": "stdout",
     "output_type": "stream",
     "text": [
      "Since P_Value is 0.0, which is less than 0.00833 it would be very unlikely to observe the data and then reject the Null Hypothesis. Concluding average vocabulary scores of self-identified middle and lower class Americans are different \n"
     ]
    }
   ],
   "source": [
    "if p_value > alpha_star:\n",
    "    print(f\"Since P_Value is {np.round(p_value, 3)} which is more than {np.round(alpha_star, 5)} , it is likely to observe the data and then do not reject the Null Hypothesis\")\n",
    "else:\n",
    "    print(f\"Since P_Value is {np.round(p_value, 3)}, which is less than {np.round(alpha_star, 5)} it would be very unlikely to observe the data and then reject the Null Hypothesis. Concluding average vocabulary scores of self-identified middle and lower class Americans are different \")"
   ]
  },
  {
   "cell_type": "markdown",
   "metadata": {},
   "source": [
    "#### <span style=\"color:darkred\"> Confidence Interval </span>"
   ]
  },
  {
   "cell_type": "code",
   "execution_count": 45,
   "metadata": {},
   "outputs": [
    {
     "data": {
      "text/plain": [
       "2.6449106345724305"
      ]
     },
     "execution_count": 45,
     "metadata": {},
     "output_type": "execute_result"
    }
   ],
   "source": [
    "t = stats.t.isf(alpha_star/2, df)\n",
    "t"
   ]
  },
  {
   "cell_type": "code",
   "execution_count": 47,
   "metadata": {},
   "outputs": [
    {
     "name": "stdout",
     "output_type": "stream",
     "text": [
      "0.95 confident that difference average vocabulary score of the middle and lower calss is between 0.86 to 2.52\n"
     ]
    }
   ],
   "source": [
    "Lower_band = (x_bar3 - x_bar1) - t * (se)\n",
    "upper_band = (x_bar3 - x_bar1) + t * (se)\n",
    "\n",
    "print(f\"{cl} confident that difference average vocabulary score of the middle and lower calss is between {round(Lower_band, 2)} to {round(upper_band, 2)}\")"
   ]
  },
  {
   "cell_type": "code",
   "execution_count": 49,
   "metadata": {},
   "outputs": [
    {
     "data": {
      "text/plain": [
       "(0.8559076819487174, 2.5240923180512818)"
      ]
     },
     "execution_count": 49,
     "metadata": {},
     "output_type": "execute_result"
    }
   ],
   "source": [
    "stats.t.interval(1-alpha_star, df, x_bar3-x_bar1, se)"
   ]
  },
  {
   "cell_type": "markdown",
   "metadata": {},
   "source": [
    "## <span style=\"color:darkred\"> EXERCISE </span>\n",
    "\n",
    "- In the `data` folder, using a sample of Walmart stores data, reading in the `stores.csv`. \n",
    "- In the `data` folder, using a sample of Walmart stores data, reading in the `train.csv`. "
   ]
  },
  {
   "cell_type": "code",
   "execution_count": 50,
   "metadata": {},
   "outputs": [
    {
     "data": {
      "text/html": [
       "<div>\n",
       "<style scoped>\n",
       "    .dataframe tbody tr th:only-of-type {\n",
       "        vertical-align: middle;\n",
       "    }\n",
       "\n",
       "    .dataframe tbody tr th {\n",
       "        vertical-align: top;\n",
       "    }\n",
       "\n",
       "    .dataframe thead th {\n",
       "        text-align: right;\n",
       "    }\n",
       "</style>\n",
       "<table border=\"1\" class=\"dataframe\">\n",
       "  <thead>\n",
       "    <tr style=\"text-align: right;\">\n",
       "      <th></th>\n",
       "      <th>Store</th>\n",
       "      <th>Type</th>\n",
       "      <th>Size</th>\n",
       "    </tr>\n",
       "  </thead>\n",
       "  <tbody>\n",
       "    <tr>\n",
       "      <th>0</th>\n",
       "      <td>1</td>\n",
       "      <td>A</td>\n",
       "      <td>151315</td>\n",
       "    </tr>\n",
       "    <tr>\n",
       "      <th>1</th>\n",
       "      <td>2</td>\n",
       "      <td>A</td>\n",
       "      <td>202307</td>\n",
       "    </tr>\n",
       "    <tr>\n",
       "      <th>2</th>\n",
       "      <td>3</td>\n",
       "      <td>B</td>\n",
       "      <td>37392</td>\n",
       "    </tr>\n",
       "    <tr>\n",
       "      <th>3</th>\n",
       "      <td>4</td>\n",
       "      <td>A</td>\n",
       "      <td>205863</td>\n",
       "    </tr>\n",
       "    <tr>\n",
       "      <th>4</th>\n",
       "      <td>5</td>\n",
       "      <td>B</td>\n",
       "      <td>34875</td>\n",
       "    </tr>\n",
       "  </tbody>\n",
       "</table>\n",
       "</div>"
      ],
      "text/plain": [
       "   Store Type    Size\n",
       "0      1    A  151315\n",
       "1      2    A  202307\n",
       "2      3    B   37392\n",
       "3      4    A  205863\n",
       "4      5    B   34875"
      ]
     },
     "execution_count": 50,
     "metadata": {},
     "output_type": "execute_result"
    }
   ],
   "source": [
    "stores = pd.read_csv(\"./data/stores.csv\")\n",
    "stores.head()"
   ]
  },
  {
   "cell_type": "code",
   "execution_count": 51,
   "metadata": {},
   "outputs": [
    {
     "data": {
      "text/html": [
       "<div>\n",
       "<style scoped>\n",
       "    .dataframe tbody tr th:only-of-type {\n",
       "        vertical-align: middle;\n",
       "    }\n",
       "\n",
       "    .dataframe tbody tr th {\n",
       "        vertical-align: top;\n",
       "    }\n",
       "\n",
       "    .dataframe thead th {\n",
       "        text-align: right;\n",
       "    }\n",
       "</style>\n",
       "<table border=\"1\" class=\"dataframe\">\n",
       "  <thead>\n",
       "    <tr style=\"text-align: right;\">\n",
       "      <th></th>\n",
       "      <th>Store</th>\n",
       "      <th>Dept</th>\n",
       "      <th>Date</th>\n",
       "      <th>Weekly_Sales</th>\n",
       "      <th>IsHoliday</th>\n",
       "    </tr>\n",
       "  </thead>\n",
       "  <tbody>\n",
       "    <tr>\n",
       "      <th>0</th>\n",
       "      <td>1</td>\n",
       "      <td>1</td>\n",
       "      <td>2010-02-05</td>\n",
       "      <td>24924.50</td>\n",
       "      <td>False</td>\n",
       "    </tr>\n",
       "    <tr>\n",
       "      <th>1</th>\n",
       "      <td>1</td>\n",
       "      <td>1</td>\n",
       "      <td>2010-02-12</td>\n",
       "      <td>46039.49</td>\n",
       "      <td>True</td>\n",
       "    </tr>\n",
       "    <tr>\n",
       "      <th>2</th>\n",
       "      <td>1</td>\n",
       "      <td>1</td>\n",
       "      <td>2010-02-19</td>\n",
       "      <td>41595.55</td>\n",
       "      <td>False</td>\n",
       "    </tr>\n",
       "    <tr>\n",
       "      <th>3</th>\n",
       "      <td>1</td>\n",
       "      <td>1</td>\n",
       "      <td>2010-02-26</td>\n",
       "      <td>19403.54</td>\n",
       "      <td>False</td>\n",
       "    </tr>\n",
       "    <tr>\n",
       "      <th>4</th>\n",
       "      <td>1</td>\n",
       "      <td>1</td>\n",
       "      <td>2010-03-05</td>\n",
       "      <td>21827.90</td>\n",
       "      <td>False</td>\n",
       "    </tr>\n",
       "  </tbody>\n",
       "</table>\n",
       "</div>"
      ],
      "text/plain": [
       "   Store  Dept        Date  Weekly_Sales  IsHoliday\n",
       "0      1     1  2010-02-05      24924.50      False\n",
       "1      1     1  2010-02-12      46039.49       True\n",
       "2      1     1  2010-02-19      41595.55      False\n",
       "3      1     1  2010-02-26      19403.54      False\n",
       "4      1     1  2010-03-05      21827.90      False"
      ]
     },
     "execution_count": 51,
     "metadata": {},
     "output_type": "execute_result"
    }
   ],
   "source": [
    "train = pd.read_csv(\"./data/train.csv\")\n",
    "train.head()"
   ]
  },
  {
   "cell_type": "markdown",
   "metadata": {},
   "source": [
    "### <span style=\"color:darkred\"> a) </span>\n",
    "\n",
    "**Testing whether the average size of the `stores` file was different across types, conducting the hypothesis test, finding $p$-value, and making the appropriate conclusion.**"
   ]
  },
  {
   "cell_type": "code",
   "execution_count": 52,
   "metadata": {},
   "outputs": [
    {
     "data": {
      "text/plain": [
       "A    22\n",
       "B    17\n",
       "C     6\n",
       "Name: Type, dtype: int64"
      ]
     },
     "execution_count": 52,
     "metadata": {},
     "output_type": "execute_result"
    }
   ],
   "source": [
    "stores['Type'].value_counts()"
   ]
  },
  {
   "cell_type": "code",
   "execution_count": 53,
   "metadata": {},
   "outputs": [
    {
     "data": {
      "text/plain": [
       "F_onewayResult(statistic=34.34822194883028, pvalue=1.4502004628034625e-09)"
      ]
     },
     "execution_count": 53,
     "metadata": {},
     "output_type": "execute_result"
    }
   ],
   "source": [
    "stats.f_oneway(stores[stores['Type'] == 'A']['Size'], \n",
    "               stores[stores['Type'] == 'B']['Size'],\n",
    "               stores[stores['Type'] == 'C']['Size'])"
   ]
  },
  {
   "cell_type": "markdown",
   "metadata": {},
   "source": [
    "> Hypotheses: \n",
    "- $H_0: \\mu_A = \\mu_B = \\mu_C$\n",
    "- $H_A$: at least one $\\mu_i \\neq \\mu_j$"
   ]
  },
  {
   "cell_type": "code",
   "execution_count": 54,
   "metadata": {},
   "outputs": [],
   "source": [
    "alpha = 0.05\n",
    "p_value = stats.f_oneway(stores[stores['Type'] == 'A']['Size'], \n",
    "               stores[stores['Type'] == 'B']['Size'],\n",
    "               stores[stores['Type'] == 'C']['Size'])[1]"
   ]
  },
  {
   "cell_type": "code",
   "execution_count": 55,
   "metadata": {},
   "outputs": [],
   "source": [
    "def check_the_hypothesis(p_value):\n",
    "    if p_value > alpha:\n",
    "        print(f\"Since P_Value is {p_value} which is more than {np.round(alpha, 2)} , it is likely to observe the data and then do not reject the Null Hypothesis\")\n",
    "    else:\n",
    "        print(f\"Since P_Value is {p_value}, which is less than {np.round(alpha, 2)} it would be very unlikely to observe the data and then reject the Null Hypothesis.\")"
   ]
  },
  {
   "cell_type": "code",
   "execution_count": 45,
   "metadata": {},
   "outputs": [
    {
     "name": "stdout",
     "output_type": "stream",
     "text": [
      "Since P_Value is 1.4502004628034625e-09, which is less than 0.05 it would be very unlikely to observe the data and then reject the Null Hypothesis.\n"
     ]
    }
   ],
   "source": [
    "check_the_hypothesis(p_value)"
   ]
  },
  {
   "cell_type": "markdown",
   "metadata": {},
   "source": [
    "### <span style=\"color:darkred\"> b) </span>\n",
    "\n",
    "**Testing whether average weekly sales of `train` file was different among the type of stores, conducting the hypothesis test, finding $p$-value, and making the appropriate conclusion.**"
   ]
  },
  {
   "cell_type": "code",
   "execution_count": 56,
   "metadata": {},
   "outputs": [
    {
     "data": {
      "text/html": [
       "<div>\n",
       "<style scoped>\n",
       "    .dataframe tbody tr th:only-of-type {\n",
       "        vertical-align: middle;\n",
       "    }\n",
       "\n",
       "    .dataframe tbody tr th {\n",
       "        vertical-align: top;\n",
       "    }\n",
       "\n",
       "    .dataframe thead th {\n",
       "        text-align: right;\n",
       "    }\n",
       "</style>\n",
       "<table border=\"1\" class=\"dataframe\">\n",
       "  <thead>\n",
       "    <tr style=\"text-align: right;\">\n",
       "      <th></th>\n",
       "      <th>Store</th>\n",
       "      <th>Type</th>\n",
       "      <th>Size</th>\n",
       "    </tr>\n",
       "  </thead>\n",
       "  <tbody>\n",
       "    <tr>\n",
       "      <th>0</th>\n",
       "      <td>1</td>\n",
       "      <td>A</td>\n",
       "      <td>151315</td>\n",
       "    </tr>\n",
       "    <tr>\n",
       "      <th>1</th>\n",
       "      <td>2</td>\n",
       "      <td>A</td>\n",
       "      <td>202307</td>\n",
       "    </tr>\n",
       "    <tr>\n",
       "      <th>2</th>\n",
       "      <td>3</td>\n",
       "      <td>B</td>\n",
       "      <td>37392</td>\n",
       "    </tr>\n",
       "    <tr>\n",
       "      <th>3</th>\n",
       "      <td>4</td>\n",
       "      <td>A</td>\n",
       "      <td>205863</td>\n",
       "    </tr>\n",
       "    <tr>\n",
       "      <th>4</th>\n",
       "      <td>5</td>\n",
       "      <td>B</td>\n",
       "      <td>34875</td>\n",
       "    </tr>\n",
       "  </tbody>\n",
       "</table>\n",
       "</div>"
      ],
      "text/plain": [
       "   Store Type    Size\n",
       "0      1    A  151315\n",
       "1      2    A  202307\n",
       "2      3    B   37392\n",
       "3      4    A  205863\n",
       "4      5    B   34875"
      ]
     },
     "execution_count": 56,
     "metadata": {},
     "output_type": "execute_result"
    }
   ],
   "source": [
    "stores.head()"
   ]
  },
  {
   "cell_type": "code",
   "execution_count": 57,
   "metadata": {},
   "outputs": [
    {
     "data": {
      "text/html": [
       "<div>\n",
       "<style scoped>\n",
       "    .dataframe tbody tr th:only-of-type {\n",
       "        vertical-align: middle;\n",
       "    }\n",
       "\n",
       "    .dataframe tbody tr th {\n",
       "        vertical-align: top;\n",
       "    }\n",
       "\n",
       "    .dataframe thead th {\n",
       "        text-align: right;\n",
       "    }\n",
       "</style>\n",
       "<table border=\"1\" class=\"dataframe\">\n",
       "  <thead>\n",
       "    <tr style=\"text-align: right;\">\n",
       "      <th></th>\n",
       "      <th>Store</th>\n",
       "      <th>Dept</th>\n",
       "      <th>Date</th>\n",
       "      <th>Weekly_Sales</th>\n",
       "      <th>IsHoliday</th>\n",
       "    </tr>\n",
       "  </thead>\n",
       "  <tbody>\n",
       "    <tr>\n",
       "      <th>0</th>\n",
       "      <td>1</td>\n",
       "      <td>1</td>\n",
       "      <td>2010-02-05</td>\n",
       "      <td>24924.50</td>\n",
       "      <td>False</td>\n",
       "    </tr>\n",
       "    <tr>\n",
       "      <th>1</th>\n",
       "      <td>1</td>\n",
       "      <td>1</td>\n",
       "      <td>2010-02-12</td>\n",
       "      <td>46039.49</td>\n",
       "      <td>True</td>\n",
       "    </tr>\n",
       "    <tr>\n",
       "      <th>2</th>\n",
       "      <td>1</td>\n",
       "      <td>1</td>\n",
       "      <td>2010-02-19</td>\n",
       "      <td>41595.55</td>\n",
       "      <td>False</td>\n",
       "    </tr>\n",
       "    <tr>\n",
       "      <th>3</th>\n",
       "      <td>1</td>\n",
       "      <td>1</td>\n",
       "      <td>2010-02-26</td>\n",
       "      <td>19403.54</td>\n",
       "      <td>False</td>\n",
       "    </tr>\n",
       "    <tr>\n",
       "      <th>4</th>\n",
       "      <td>1</td>\n",
       "      <td>1</td>\n",
       "      <td>2010-03-05</td>\n",
       "      <td>21827.90</td>\n",
       "      <td>False</td>\n",
       "    </tr>\n",
       "  </tbody>\n",
       "</table>\n",
       "</div>"
      ],
      "text/plain": [
       "   Store  Dept        Date  Weekly_Sales  IsHoliday\n",
       "0      1     1  2010-02-05      24924.50      False\n",
       "1      1     1  2010-02-12      46039.49       True\n",
       "2      1     1  2010-02-19      41595.55      False\n",
       "3      1     1  2010-02-26      19403.54      False\n",
       "4      1     1  2010-03-05      21827.90      False"
      ]
     },
     "execution_count": 57,
     "metadata": {},
     "output_type": "execute_result"
    }
   ],
   "source": [
    "train.head()"
   ]
  },
  {
   "cell_type": "code",
   "execution_count": 58,
   "metadata": {},
   "outputs": [
    {
     "data": {
      "text/html": [
       "<div>\n",
       "<style scoped>\n",
       "    .dataframe tbody tr th:only-of-type {\n",
       "        vertical-align: middle;\n",
       "    }\n",
       "\n",
       "    .dataframe tbody tr th {\n",
       "        vertical-align: top;\n",
       "    }\n",
       "\n",
       "    .dataframe thead th {\n",
       "        text-align: right;\n",
       "    }\n",
       "</style>\n",
       "<table border=\"1\" class=\"dataframe\">\n",
       "  <thead>\n",
       "    <tr style=\"text-align: right;\">\n",
       "      <th></th>\n",
       "      <th>Store</th>\n",
       "      <th>Dept</th>\n",
       "      <th>Date</th>\n",
       "      <th>Weekly_Sales</th>\n",
       "      <th>IsHoliday</th>\n",
       "      <th>Type</th>\n",
       "      <th>Size</th>\n",
       "    </tr>\n",
       "  </thead>\n",
       "  <tbody>\n",
       "    <tr>\n",
       "      <th>0</th>\n",
       "      <td>1</td>\n",
       "      <td>1</td>\n",
       "      <td>2010-02-05</td>\n",
       "      <td>24924.50</td>\n",
       "      <td>False</td>\n",
       "      <td>A</td>\n",
       "      <td>151315</td>\n",
       "    </tr>\n",
       "    <tr>\n",
       "      <th>1</th>\n",
       "      <td>1</td>\n",
       "      <td>1</td>\n",
       "      <td>2010-02-12</td>\n",
       "      <td>46039.49</td>\n",
       "      <td>True</td>\n",
       "      <td>A</td>\n",
       "      <td>151315</td>\n",
       "    </tr>\n",
       "    <tr>\n",
       "      <th>2</th>\n",
       "      <td>1</td>\n",
       "      <td>1</td>\n",
       "      <td>2010-02-19</td>\n",
       "      <td>41595.55</td>\n",
       "      <td>False</td>\n",
       "      <td>A</td>\n",
       "      <td>151315</td>\n",
       "    </tr>\n",
       "    <tr>\n",
       "      <th>3</th>\n",
       "      <td>1</td>\n",
       "      <td>1</td>\n",
       "      <td>2010-02-26</td>\n",
       "      <td>19403.54</td>\n",
       "      <td>False</td>\n",
       "      <td>A</td>\n",
       "      <td>151315</td>\n",
       "    </tr>\n",
       "    <tr>\n",
       "      <th>4</th>\n",
       "      <td>1</td>\n",
       "      <td>1</td>\n",
       "      <td>2010-03-05</td>\n",
       "      <td>21827.90</td>\n",
       "      <td>False</td>\n",
       "      <td>A</td>\n",
       "      <td>151315</td>\n",
       "    </tr>\n",
       "  </tbody>\n",
       "</table>\n",
       "</div>"
      ],
      "text/plain": [
       "   Store  Dept        Date  Weekly_Sales  IsHoliday Type    Size\n",
       "0      1     1  2010-02-05      24924.50      False    A  151315\n",
       "1      1     1  2010-02-12      46039.49       True    A  151315\n",
       "2      1     1  2010-02-19      41595.55      False    A  151315\n",
       "3      1     1  2010-02-26      19403.54      False    A  151315\n",
       "4      1     1  2010-03-05      21827.90      False    A  151315"
      ]
     },
     "execution_count": 58,
     "metadata": {},
     "output_type": "execute_result"
    }
   ],
   "source": [
    "combined = train.merge(stores, how = 'left', on = 'Store')\n",
    "combined.head()"
   ]
  },
  {
   "cell_type": "code",
   "execution_count": 59,
   "metadata": {},
   "outputs": [
    {
     "data": {
      "text/plain": [
       "F_onewayResult(statistic=7764.426217449252, pvalue=0.0)"
      ]
     },
     "execution_count": 59,
     "metadata": {},
     "output_type": "execute_result"
    }
   ],
   "source": [
    "stats.f_oneway(combined[combined['Type'] == 'A']['Weekly_Sales'],\n",
    "               combined[combined['Type'] == 'B']['Weekly_Sales'],\n",
    "               combined[combined['Type'] == 'C']['Weekly_Sales'])"
   ]
  },
  {
   "cell_type": "code",
   "execution_count": 60,
   "metadata": {},
   "outputs": [],
   "source": [
    "alpha = 0.05\n",
    "p_value = stats.f_oneway(combined[combined['Type'] == 'A']['Weekly_Sales'],\n",
    "               combined[combined['Type'] == 'B']['Weekly_Sales'],\n",
    "               combined[combined['Type'] == 'C']['Weekly_Sales'])[1]"
   ]
  },
  {
   "cell_type": "code",
   "execution_count": 51,
   "metadata": {},
   "outputs": [
    {
     "name": "stdout",
     "output_type": "stream",
     "text": [
      "Since P_Value is 0.0, which is less than 0.05 it would be very unlikely to observe the data and then reject the Null Hypothesis.\n"
     ]
    }
   ],
   "source": [
    "check_the_hypothesis(p_value)"
   ]
  },
  {
   "cell_type": "markdown",
   "metadata": {},
   "source": [
    "### <span style=\"color:darkred\"> c) </span>\n",
    "\n",
    "**Testing whether average weekly sales differs on holidays versus non-holidays, conducting the hypothesis test, finding $p$-value, and making the appropriate conclusion.**"
   ]
  },
  {
   "cell_type": "code",
   "execution_count": 61,
   "metadata": {},
   "outputs": [
    {
     "data": {
      "text/plain": [
       "Ttest_indResult(statistic=8.294756853931894, pvalue=1.0912222677432844e-16)"
      ]
     },
     "execution_count": 61,
     "metadata": {},
     "output_type": "execute_result"
    }
   ],
   "source": [
    "stats.ttest_ind(combined[combined['IsHoliday'] == True]['Weekly_Sales'],\n",
    "                combined[combined['IsHoliday'] == False]['Weekly_Sales'])"
   ]
  },
  {
   "cell_type": "code",
   "execution_count": 62,
   "metadata": {},
   "outputs": [
    {
     "name": "stdout",
     "output_type": "stream",
     "text": [
      "Since P_Value is 1.0912222677432844e-16, which is less than 0.05 it would be very unlikely to observe the data and then reject the Null Hypothesis.\n"
     ]
    }
   ],
   "source": [
    "alpha = 0.05\n",
    "p_value = stats.ttest_ind(combined[combined['IsHoliday'] == True]['Weekly_Sales'],\n",
    "                combined[combined['IsHoliday'] == False]['Weekly_Sales'])[1]\n",
    "\n",
    "check_the_hypothesis(p_value)"
   ]
  },
  {
   "cell_type": "markdown",
   "metadata": {},
   "source": [
    "### <span style=\"color:darkred\"> d) </span>\n",
    "\n",
    "**Generating and interpreting a 95% confidence interval for the true average weekly sales among holiday weeks**"
   ]
  },
  {
   "cell_type": "code",
   "execution_count": 63,
   "metadata": {},
   "outputs": [
    {
     "data": {
      "text/html": [
       "<div>\n",
       "<style scoped>\n",
       "    .dataframe tbody tr th:only-of-type {\n",
       "        vertical-align: middle;\n",
       "    }\n",
       "\n",
       "    .dataframe tbody tr th {\n",
       "        vertical-align: top;\n",
       "    }\n",
       "\n",
       "    .dataframe thead th {\n",
       "        text-align: right;\n",
       "    }\n",
       "</style>\n",
       "<table border=\"1\" class=\"dataframe\">\n",
       "  <thead>\n",
       "    <tr style=\"text-align: right;\">\n",
       "      <th></th>\n",
       "      <th>Store</th>\n",
       "      <th>Dept</th>\n",
       "      <th>Date</th>\n",
       "      <th>Weekly_Sales</th>\n",
       "      <th>IsHoliday</th>\n",
       "      <th>Type</th>\n",
       "      <th>Size</th>\n",
       "    </tr>\n",
       "  </thead>\n",
       "  <tbody>\n",
       "    <tr>\n",
       "      <th>0</th>\n",
       "      <td>1</td>\n",
       "      <td>1</td>\n",
       "      <td>2010-02-05</td>\n",
       "      <td>24924.50</td>\n",
       "      <td>False</td>\n",
       "      <td>A</td>\n",
       "      <td>151315</td>\n",
       "    </tr>\n",
       "    <tr>\n",
       "      <th>1</th>\n",
       "      <td>1</td>\n",
       "      <td>1</td>\n",
       "      <td>2010-02-12</td>\n",
       "      <td>46039.49</td>\n",
       "      <td>True</td>\n",
       "      <td>A</td>\n",
       "      <td>151315</td>\n",
       "    </tr>\n",
       "    <tr>\n",
       "      <th>2</th>\n",
       "      <td>1</td>\n",
       "      <td>1</td>\n",
       "      <td>2010-02-19</td>\n",
       "      <td>41595.55</td>\n",
       "      <td>False</td>\n",
       "      <td>A</td>\n",
       "      <td>151315</td>\n",
       "    </tr>\n",
       "    <tr>\n",
       "      <th>3</th>\n",
       "      <td>1</td>\n",
       "      <td>1</td>\n",
       "      <td>2010-02-26</td>\n",
       "      <td>19403.54</td>\n",
       "      <td>False</td>\n",
       "      <td>A</td>\n",
       "      <td>151315</td>\n",
       "    </tr>\n",
       "    <tr>\n",
       "      <th>4</th>\n",
       "      <td>1</td>\n",
       "      <td>1</td>\n",
       "      <td>2010-03-05</td>\n",
       "      <td>21827.90</td>\n",
       "      <td>False</td>\n",
       "      <td>A</td>\n",
       "      <td>151315</td>\n",
       "    </tr>\n",
       "  </tbody>\n",
       "</table>\n",
       "</div>"
      ],
      "text/plain": [
       "   Store  Dept        Date  Weekly_Sales  IsHoliday Type    Size\n",
       "0      1     1  2010-02-05      24924.50      False    A  151315\n",
       "1      1     1  2010-02-12      46039.49       True    A  151315\n",
       "2      1     1  2010-02-19      41595.55      False    A  151315\n",
       "3      1     1  2010-02-26      19403.54      False    A  151315\n",
       "4      1     1  2010-03-05      21827.90      False    A  151315"
      ]
     },
     "execution_count": 63,
     "metadata": {},
     "output_type": "execute_result"
    }
   ],
   "source": [
    "combined.head()"
   ]
  },
  {
   "cell_type": "code",
   "execution_count": 64,
   "metadata": {},
   "outputs": [],
   "source": [
    "cl = 0.95\n",
    "dof = combined[combined['IsHoliday'] == True].shape[0] - 1\n",
    "mean = combined[combined['IsHoliday'] == True]['Weekly_Sales'].mean()\n",
    "std = (np.std(combined[combined['IsHoliday'] == True]['Weekly_Sales']) / combined[combined['IsHoliday'] == True].shape[0] ** 0.5)"
   ]
  },
  {
   "cell_type": "code",
   "execution_count": 65,
   "metadata": {},
   "outputs": [],
   "source": [
    "# # Compare with previous one\n",
    "# stats.t.interval(0.95,\n",
    "#                  combined[combined['IsHoliday'] == True].shape[0],\n",
    "#                  loc = combined[combined['IsHoliday'] == True]['Weekly_Sales'].mean(),\n",
    "#                  scale = (np.std(combined[combined['IsHoliday'] == True]['Weekly_Sales'], ddof = 1)) / combined[combined['IsHoliday'] == True].shape[0] ** 0.5)"
   ]
  },
  {
   "cell_type": "code",
   "execution_count": 66,
   "metadata": {},
   "outputs": [
    {
     "data": {
      "text/plain": [
       "(16726.020176130354, 17345.626198570608)"
      ]
     },
     "execution_count": 66,
     "metadata": {},
     "output_type": "execute_result"
    }
   ],
   "source": [
    "stats.t.interval(alpha=cl, df=dof, loc=mean, scale=std)"
   ]
  },
  {
   "cell_type": "code",
   "execution_count": 67,
   "metadata": {},
   "outputs": [
    {
     "name": "stdout",
     "output_type": "stream",
     "text": [
      "There is 0.95 confience that the true average weekly sales among holiday weeks is between 16726.02 and 17345.63 \n"
     ]
    }
   ],
   "source": [
    "print(f\"There is {cl} confience that the true average weekly sales among holiday weeks is between {np.round(stats.t.interval(alpha=cl, df=dof, loc=mean, scale=std)[0], 2)} and {np.round(stats.t.interval(alpha=cl, df=dof, loc=mean, scale=std)[1], 2)} \")"
   ]
  },
  {
   "cell_type": "markdown",
   "metadata": {},
   "source": [
    "### <span style=\"color:darkred\"> e) </span>\n",
    "\n",
    "**Generating and interpreting a 95% confidence interval for the true average weekly sales among non-holiday weeks**"
   ]
  },
  {
   "cell_type": "code",
   "execution_count": 68,
   "metadata": {},
   "outputs": [],
   "source": [
    "cl = 0.95\n",
    "dof = combined[combined['IsHoliday'] == False].shape[0] - 1\n",
    "mean = combined[combined['IsHoliday'] == False]['Weekly_Sales'].mean()\n",
    "std = (np.std(combined[combined['IsHoliday'] == False]['Weekly_Sales']) / combined[combined['IsHoliday'] == False].shape[0] ** 0.5)"
   ]
  },
  {
   "cell_type": "code",
   "execution_count": 69,
   "metadata": {},
   "outputs": [
    {
     "data": {
      "text/plain": [
       "(15831.531814442133, 15971.3583235749)"
      ]
     },
     "execution_count": 69,
     "metadata": {},
     "output_type": "execute_result"
    }
   ],
   "source": [
    "stats.t.interval(alpha=cl, df=dof, loc=mean, scale=std)"
   ]
  },
  {
   "cell_type": "code",
   "execution_count": 70,
   "metadata": {},
   "outputs": [
    {
     "name": "stdout",
     "output_type": "stream",
     "text": [
      "There is 0.95 confience that the true average weekly sales among non-holiday weeks is between 15831.53 and 15971.36 \n"
     ]
    }
   ],
   "source": [
    "print(f\"There is {cl} confience that the true average weekly sales among non-holiday weeks is between {np.round(stats.t.interval(alpha=cl, df=dof, loc=mean, scale=std)[0], 2)} and {np.round(stats.t.interval(alpha=cl, df=dof, loc=mean, scale=std)[1], 2)} \")\n"
   ]
  },
  {
   "cell_type": "markdown",
   "metadata": {},
   "source": [
    "** A hypothesis test is the inversion of a confidence interval:**\n",
    "\n",
    "> The hypothesis test, constructed under the same conditions, will always fail to reject $H_0$ if the $\\mu_0$ value is in the confidence interval and will always reject $H_0$ if the $\\mu_0$ value is outside the confidence interval."
   ]
  },
  {
   "cell_type": "code",
   "execution_count": null,
   "metadata": {},
   "outputs": [],
   "source": []
  },
  {
   "cell_type": "code",
   "execution_count": null,
   "metadata": {},
   "outputs": [],
   "source": []
  },
  {
   "cell_type": "code",
   "execution_count": null,
   "metadata": {},
   "outputs": [],
   "source": []
  }
 ],
 "metadata": {
  "kernelspec": {
   "display_name": "Python 3",
   "language": "python",
   "name": "python3"
  },
  "language_info": {
   "codemirror_mode": {
    "name": "ipython",
    "version": 3
   },
   "file_extension": ".py",
   "mimetype": "text/x-python",
   "name": "python",
   "nbconvert_exporter": "python",
   "pygments_lexer": "ipython3",
   "version": "3.7.4"
  }
 },
 "nbformat": 4,
 "nbformat_minor": 2
}
